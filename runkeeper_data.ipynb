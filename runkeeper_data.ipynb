{
 "cells": [
  {
   "cell_type": "code",
   "execution_count": 33,
   "metadata": {},
   "outputs": [],
   "source": [
    "import numpy as np\n",
    "import pandas as pd\n",
    "import matplotlib as mpl\n",
    "import matplotlib.pyplot as plt\n",
    "import seaborn as sns\n",
    "from math import ceil\n",
    "plt.style.use('ggplot')"
   ]
  },
  {
   "cell_type": "markdown",
   "metadata": {},
   "source": [
    "# Data extraction and exploration"
   ]
  },
  {
   "cell_type": "code",
   "execution_count": 34,
   "metadata": {},
   "outputs": [],
   "source": [
    "cardio = pd.read_csv('/Users/surajkwork/Documents/Projects/runkeeper_data_analysis/data/cardioActivities.csv')"
   ]
  },
  {
   "cell_type": "code",
   "execution_count": 35,
   "metadata": {},
   "outputs": [
    {
     "data": {
      "text/html": [
       "<div>\n",
       "<style scoped>\n",
       "    .dataframe tbody tr th:only-of-type {\n",
       "        vertical-align: middle;\n",
       "    }\n",
       "\n",
       "    .dataframe tbody tr th {\n",
       "        vertical-align: top;\n",
       "    }\n",
       "\n",
       "    .dataframe thead th {\n",
       "        text-align: right;\n",
       "    }\n",
       "</style>\n",
       "<table border=\"1\" class=\"dataframe\">\n",
       "  <thead>\n",
       "    <tr style=\"text-align: right;\">\n",
       "      <th></th>\n",
       "      <th>Activity Id</th>\n",
       "      <th>Date</th>\n",
       "      <th>Type</th>\n",
       "      <th>Route Name</th>\n",
       "      <th>Distance (km)</th>\n",
       "      <th>Duration</th>\n",
       "      <th>Average Pace</th>\n",
       "      <th>Average Speed (km/h)</th>\n",
       "      <th>Calories Burned</th>\n",
       "      <th>Climb (m)</th>\n",
       "      <th>Average Heart Rate (bpm)</th>\n",
       "      <th>Friend's Tagged</th>\n",
       "      <th>Notes</th>\n",
       "      <th>GPX File</th>\n",
       "    </tr>\n",
       "  </thead>\n",
       "  <tbody>\n",
       "    <tr>\n",
       "      <th>0</th>\n",
       "      <td>c37e7ff3-a8ab-4739-95d5-b0631c47ddd7</td>\n",
       "      <td>2024-12-10 18:00:57</td>\n",
       "      <td>Running</td>\n",
       "      <td>NaN</td>\n",
       "      <td>2.87</td>\n",
       "      <td>36:22</td>\n",
       "      <td>12:41</td>\n",
       "      <td>4.73</td>\n",
       "      <td>186.0</td>\n",
       "      <td>21</td>\n",
       "      <td>NaN</td>\n",
       "      <td>NaN</td>\n",
       "      <td>NaN</td>\n",
       "      <td>2024-12-10-180057.gpx</td>\n",
       "    </tr>\n",
       "    <tr>\n",
       "      <th>1</th>\n",
       "      <td>becc4798-4db0-4a19-bf61-c32ebd5650f2</td>\n",
       "      <td>2024-12-01 15:23:10</td>\n",
       "      <td>Running</td>\n",
       "      <td>NaN</td>\n",
       "      <td>7.97</td>\n",
       "      <td>1:16:59</td>\n",
       "      <td>9:40</td>\n",
       "      <td>6.21</td>\n",
       "      <td>559.0</td>\n",
       "      <td>41</td>\n",
       "      <td>NaN</td>\n",
       "      <td>NaN</td>\n",
       "      <td>NaN</td>\n",
       "      <td>2024-12-01-152310.gpx</td>\n",
       "    </tr>\n",
       "    <tr>\n",
       "      <th>2</th>\n",
       "      <td>4f2886fd-f7b4-4ce6-bdde-823eeab292a3</td>\n",
       "      <td>2024-11-17 16:04:34</td>\n",
       "      <td>Running</td>\n",
       "      <td>NaN</td>\n",
       "      <td>3.85</td>\n",
       "      <td>38:12</td>\n",
       "      <td>9:56</td>\n",
       "      <td>6.04</td>\n",
       "      <td>285.0</td>\n",
       "      <td>15</td>\n",
       "      <td>NaN</td>\n",
       "      <td>NaN</td>\n",
       "      <td>NaN</td>\n",
       "      <td>2024-11-17-160434.gpx</td>\n",
       "    </tr>\n",
       "    <tr>\n",
       "      <th>3</th>\n",
       "      <td>98b4b003-9d1c-4743-bd88-b19766453fdd</td>\n",
       "      <td>2024-11-02 16:15:58</td>\n",
       "      <td>Running</td>\n",
       "      <td>NaN</td>\n",
       "      <td>7.86</td>\n",
       "      <td>1:10:45</td>\n",
       "      <td>9:00</td>\n",
       "      <td>6.67</td>\n",
       "      <td>568.0</td>\n",
       "      <td>42</td>\n",
       "      <td>NaN</td>\n",
       "      <td>NaN</td>\n",
       "      <td>NaN</td>\n",
       "      <td>2024-11-02-161558.gpx</td>\n",
       "    </tr>\n",
       "    <tr>\n",
       "      <th>4</th>\n",
       "      <td>f39e4a9e-dd37-4f3a-8d7e-47cb259c5c4b</td>\n",
       "      <td>2024-10-26 17:14:17</td>\n",
       "      <td>Running</td>\n",
       "      <td>NaN</td>\n",
       "      <td>7.95</td>\n",
       "      <td>1:07:10</td>\n",
       "      <td>8:27</td>\n",
       "      <td>7.10</td>\n",
       "      <td>580.0</td>\n",
       "      <td>41</td>\n",
       "      <td>NaN</td>\n",
       "      <td>NaN</td>\n",
       "      <td>NaN</td>\n",
       "      <td>2024-10-26-171417.gpx</td>\n",
       "    </tr>\n",
       "  </tbody>\n",
       "</table>\n",
       "</div>"
      ],
      "text/plain": [
       "                            Activity Id                 Date     Type  \\\n",
       "0  c37e7ff3-a8ab-4739-95d5-b0631c47ddd7  2024-12-10 18:00:57  Running   \n",
       "1  becc4798-4db0-4a19-bf61-c32ebd5650f2  2024-12-01 15:23:10  Running   \n",
       "2  4f2886fd-f7b4-4ce6-bdde-823eeab292a3  2024-11-17 16:04:34  Running   \n",
       "3  98b4b003-9d1c-4743-bd88-b19766453fdd  2024-11-02 16:15:58  Running   \n",
       "4  f39e4a9e-dd37-4f3a-8d7e-47cb259c5c4b  2024-10-26 17:14:17  Running   \n",
       "\n",
       "   Route Name  Distance (km) Duration Average Pace  Average Speed (km/h)  \\\n",
       "0         NaN           2.87    36:22        12:41                  4.73   \n",
       "1         NaN           7.97  1:16:59         9:40                  6.21   \n",
       "2         NaN           3.85    38:12         9:56                  6.04   \n",
       "3         NaN           7.86  1:10:45         9:00                  6.67   \n",
       "4         NaN           7.95  1:07:10         8:27                  7.10   \n",
       "\n",
       "   Calories Burned  Climb (m)  Average Heart Rate (bpm)  Friend's Tagged  \\\n",
       "0            186.0         21                       NaN              NaN   \n",
       "1            559.0         41                       NaN              NaN   \n",
       "2            285.0         15                       NaN              NaN   \n",
       "3            568.0         42                       NaN              NaN   \n",
       "4            580.0         41                       NaN              NaN   \n",
       "\n",
       "   Notes               GPX File  \n",
       "0    NaN  2024-12-10-180057.gpx  \n",
       "1    NaN  2024-12-01-152310.gpx  \n",
       "2    NaN  2024-11-17-160434.gpx  \n",
       "3    NaN  2024-11-02-161558.gpx  \n",
       "4    NaN  2024-10-26-171417.gpx  "
      ]
     },
     "execution_count": 35,
     "metadata": {},
     "output_type": "execute_result"
    }
   ],
   "source": [
    "cardio.head()"
   ]
  },
  {
   "cell_type": "code",
   "execution_count": 36,
   "metadata": {},
   "outputs": [
    {
     "data": {
      "text/html": [
       "<div>\n",
       "<style scoped>\n",
       "    .dataframe tbody tr th:only-of-type {\n",
       "        vertical-align: middle;\n",
       "    }\n",
       "\n",
       "    .dataframe tbody tr th {\n",
       "        vertical-align: top;\n",
       "    }\n",
       "\n",
       "    .dataframe thead th {\n",
       "        text-align: right;\n",
       "    }\n",
       "</style>\n",
       "<table border=\"1\" class=\"dataframe\">\n",
       "  <thead>\n",
       "    <tr style=\"text-align: right;\">\n",
       "      <th></th>\n",
       "      <th>Activity Id</th>\n",
       "      <th>Timestamp</th>\n",
       "      <th>Steps</th>\n",
       "    </tr>\n",
       "  </thead>\n",
       "  <tbody>\n",
       "    <tr>\n",
       "      <th>0</th>\n",
       "      <td>c37e7ff3-a8ab-4739-95d5-b0631c47ddd7</td>\n",
       "      <td>8.0</td>\n",
       "      <td>3</td>\n",
       "    </tr>\n",
       "    <tr>\n",
       "      <th>1</th>\n",
       "      <td>c37e7ff3-a8ab-4739-95d5-b0631c47ddd7</td>\n",
       "      <td>11.0</td>\n",
       "      <td>9</td>\n",
       "    </tr>\n",
       "    <tr>\n",
       "      <th>2</th>\n",
       "      <td>c37e7ff3-a8ab-4739-95d5-b0631c47ddd7</td>\n",
       "      <td>16.0</td>\n",
       "      <td>12</td>\n",
       "    </tr>\n",
       "    <tr>\n",
       "      <th>3</th>\n",
       "      <td>c37e7ff3-a8ab-4739-95d5-b0631c47ddd7</td>\n",
       "      <td>19.0</td>\n",
       "      <td>2</td>\n",
       "    </tr>\n",
       "    <tr>\n",
       "      <th>4</th>\n",
       "      <td>c37e7ff3-a8ab-4739-95d5-b0631c47ddd7</td>\n",
       "      <td>21.0</td>\n",
       "      <td>2</td>\n",
       "    </tr>\n",
       "  </tbody>\n",
       "</table>\n",
       "</div>"
      ],
      "text/plain": [
       "                            Activity Id   Timestamp   Steps\n",
       "0  c37e7ff3-a8ab-4739-95d5-b0631c47ddd7         8.0       3\n",
       "1  c37e7ff3-a8ab-4739-95d5-b0631c47ddd7        11.0       9\n",
       "2  c37e7ff3-a8ab-4739-95d5-b0631c47ddd7        16.0      12\n",
       "3  c37e7ff3-a8ab-4739-95d5-b0631c47ddd7        19.0       2\n",
       "4  c37e7ff3-a8ab-4739-95d5-b0631c47ddd7        21.0       2"
      ]
     },
     "execution_count": 36,
     "metadata": {},
     "output_type": "execute_result"
    }
   ],
   "source": [
    "steps = pd.read_csv('/Users/surajkwork/Documents/Projects/runkeeper_data_analysis/data/steps.csv')\n",
    "steps.head()"
   ]
  },
  {
   "cell_type": "code",
   "execution_count": 37,
   "metadata": {},
   "outputs": [
    {
     "data": {
      "text/plain": [
       "((361, 14), (540280, 3))"
      ]
     },
     "execution_count": 37,
     "metadata": {},
     "output_type": "execute_result"
    }
   ],
   "source": [
    "cardio.shape, steps.shape"
   ]
  },
  {
   "cell_type": "code",
   "execution_count": 38,
   "metadata": {},
   "outputs": [
    {
     "data": {
      "text/plain": [
       "Activity Id                 361\n",
       "Date                        361\n",
       "Type                          3\n",
       "Route Name                    0\n",
       "Distance (km)               216\n",
       "Duration                    329\n",
       "Average Pace                157\n",
       "Average Speed (km/h)        170\n",
       "Calories Burned             213\n",
       "Climb (m)                   117\n",
       "Average Heart Rate (bpm)      0\n",
       "Friend's Tagged               0\n",
       "Notes                         0\n",
       "GPX File                    360\n",
       "dtype: int64"
      ]
     },
     "execution_count": 38,
     "metadata": {},
     "output_type": "execute_result"
    }
   ],
   "source": [
    "cardio.nunique()"
   ]
  },
  {
   "cell_type": "code",
   "execution_count": 39,
   "metadata": {},
   "outputs": [
    {
     "data": {
      "text/plain": [
       "Activity Id     360\n",
       " Timestamp     5887\n",
       " Steps         9633\n",
       "dtype: int64"
      ]
     },
     "execution_count": 39,
     "metadata": {},
     "output_type": "execute_result"
    }
   ],
   "source": [
    "steps.nunique()"
   ]
  },
  {
   "cell_type": "code",
   "execution_count": 40,
   "metadata": {},
   "outputs": [
    {
     "data": {
      "text/html": [
       "<div>\n",
       "<style scoped>\n",
       "    .dataframe tbody tr th:only-of-type {\n",
       "        vertical-align: middle;\n",
       "    }\n",
       "\n",
       "    .dataframe tbody tr th {\n",
       "        vertical-align: top;\n",
       "    }\n",
       "\n",
       "    .dataframe thead th {\n",
       "        text-align: right;\n",
       "    }\n",
       "</style>\n",
       "<table border=\"1\" class=\"dataframe\">\n",
       "  <thead>\n",
       "    <tr style=\"text-align: right;\">\n",
       "      <th></th>\n",
       "      <th>Activity Id</th>\n",
       "      <th>Date</th>\n",
       "      <th>Distance (km)</th>\n",
       "      <th>Duration</th>\n",
       "      <th>Average Pace</th>\n",
       "      <th>Average Speed (km/h)</th>\n",
       "      <th>Calories Burned</th>\n",
       "      <th>Climb (m)</th>\n",
       "    </tr>\n",
       "  </thead>\n",
       "  <tbody>\n",
       "    <tr>\n",
       "      <th>0</th>\n",
       "      <td>c37e7ff3-a8ab-4739-95d5-b0631c47ddd7</td>\n",
       "      <td>2024-12-10 18:00:57</td>\n",
       "      <td>2.87</td>\n",
       "      <td>36:22</td>\n",
       "      <td>12:41</td>\n",
       "      <td>4.73</td>\n",
       "      <td>186.0</td>\n",
       "      <td>21</td>\n",
       "    </tr>\n",
       "    <tr>\n",
       "      <th>1</th>\n",
       "      <td>becc4798-4db0-4a19-bf61-c32ebd5650f2</td>\n",
       "      <td>2024-12-01 15:23:10</td>\n",
       "      <td>7.97</td>\n",
       "      <td>1:16:59</td>\n",
       "      <td>9:40</td>\n",
       "      <td>6.21</td>\n",
       "      <td>559.0</td>\n",
       "      <td>41</td>\n",
       "    </tr>\n",
       "    <tr>\n",
       "      <th>2</th>\n",
       "      <td>4f2886fd-f7b4-4ce6-bdde-823eeab292a3</td>\n",
       "      <td>2024-11-17 16:04:34</td>\n",
       "      <td>3.85</td>\n",
       "      <td>38:12</td>\n",
       "      <td>9:56</td>\n",
       "      <td>6.04</td>\n",
       "      <td>285.0</td>\n",
       "      <td>15</td>\n",
       "    </tr>\n",
       "    <tr>\n",
       "      <th>3</th>\n",
       "      <td>98b4b003-9d1c-4743-bd88-b19766453fdd</td>\n",
       "      <td>2024-11-02 16:15:58</td>\n",
       "      <td>7.86</td>\n",
       "      <td>1:10:45</td>\n",
       "      <td>9:00</td>\n",
       "      <td>6.67</td>\n",
       "      <td>568.0</td>\n",
       "      <td>42</td>\n",
       "    </tr>\n",
       "    <tr>\n",
       "      <th>4</th>\n",
       "      <td>f39e4a9e-dd37-4f3a-8d7e-47cb259c5c4b</td>\n",
       "      <td>2024-10-26 17:14:17</td>\n",
       "      <td>7.95</td>\n",
       "      <td>1:07:10</td>\n",
       "      <td>8:27</td>\n",
       "      <td>7.10</td>\n",
       "      <td>580.0</td>\n",
       "      <td>41</td>\n",
       "    </tr>\n",
       "  </tbody>\n",
       "</table>\n",
       "</div>"
      ],
      "text/plain": [
       "                            Activity Id                 Date  Distance (km)  \\\n",
       "0  c37e7ff3-a8ab-4739-95d5-b0631c47ddd7  2024-12-10 18:00:57           2.87   \n",
       "1  becc4798-4db0-4a19-bf61-c32ebd5650f2  2024-12-01 15:23:10           7.97   \n",
       "2  4f2886fd-f7b4-4ce6-bdde-823eeab292a3  2024-11-17 16:04:34           3.85   \n",
       "3  98b4b003-9d1c-4743-bd88-b19766453fdd  2024-11-02 16:15:58           7.86   \n",
       "4  f39e4a9e-dd37-4f3a-8d7e-47cb259c5c4b  2024-10-26 17:14:17           7.95   \n",
       "\n",
       "  Duration Average Pace  Average Speed (km/h)  Calories Burned  Climb (m)  \n",
       "0    36:22        12:41                  4.73            186.0         21  \n",
       "1  1:16:59         9:40                  6.21            559.0         41  \n",
       "2    38:12         9:56                  6.04            285.0         15  \n",
       "3  1:10:45         9:00                  6.67            568.0         42  \n",
       "4  1:07:10         8:27                  7.10            580.0         41  "
      ]
     },
     "execution_count": 40,
     "metadata": {},
     "output_type": "execute_result"
    }
   ],
   "source": [
    "columns_to_drop = ['Type', 'Route Name', 'Average Heart Rate (bpm)', \"Friend's Tagged\", 'Notes', 'GPX File']\n",
    "cardio = cardio.drop(columns=columns_to_drop)\n",
    "cardio.head()"
   ]
  },
  {
   "cell_type": "code",
   "execution_count": 42,
   "metadata": {},
   "outputs": [],
   "source": [
    "cardio['Date'] = pd.to_datetime(cardio['Date'])\n",
    "cardio.set_index('Date', inplace=True)"
   ]
  },
  {
   "cell_type": "code",
   "execution_count": 43,
   "metadata": {},
   "outputs": [
    {
     "data": {
      "image/png": "[encoded data removed]",
      "text/plain": [
       "<Figure size 1200x600 with 1 Axes>"
      ]
     },
     "metadata": {},
     "output_type": "display_data"
    }
   ],
   "source": [
    "cardio['Distance (km)'].plot(title='Distance', figsize=(12, 6), style='o')\n",
    "plt.xlabel('Date')\n",
    "plt.ylabel('Distance (km)')\n",
    "plt.show()"
   ]
  },
  {
   "cell_type": "code",
   "execution_count": 46,
   "metadata": {},
   "outputs": [],
   "source": [
    "cardio['Time'] = cardio.index.time\n",
    "cardio['Time_seconds'] = cardio['Time'].apply(lambda x: x.hour * 3600 + x.minute * 60 + x.second)\n"
   ]
  },
  {
   "cell_type": "code",
   "execution_count": 65,
   "metadata": {},
   "outputs": [
    {
     "name": "stderr",
     "output_type": "stream",
     "text": [
      "No artists with labels found to put in legend.  Note that artists whose label start with an underscore are ignored when legend() is called with no argument.\n"
     ]
    },
    {
     "data": {
      "image/png": "[encoded data removed]",
      "text/plain": [
       "<Figure size 1200x600 with 1 Axes>"
      ]
     },
     "metadata": {},
     "output_type": "display_data"
    }
   ],
   "source": [
    "\n",
    "plt.figure(figsize=(12, 6))\n",
    "plt.scatter(cardio.index, cardio['Time_seconds'])\n",
    "plt.yticks(range(0, 25 * 3600, 6 * 3600), [f\"{i:02}:00\" for i in range(0, 25, 6)])\n",
    "\n",
    "plt.xlabel(\"Date\")\n",
    "plt.ylabel(\"Time of day\")\n",
    "plt.title(\"Activity start time\")\n",
    "plt.legend()\n",
    "plt.grid(True)\n",
    "plt.show()"
   ]
  }
 ],
 "metadata": {
  "kernelspec": {
   "display_name": "Python 3",
   "language": "python",
   "name": "python3"
  },
  "language_info": {
   "codemirror_mode": {
    "name": "ipython",
    "version": 3
   },
   "file_extension": ".py",
   "mimetype": "text/x-python",
   "name": "python",
   "nbconvert_exporter": "python",
   "pygments_lexer": "ipython3",
   "version": "3.11.2"
  }
 },
 "nbformat": 4,
 "nbformat_minor": 2
}
